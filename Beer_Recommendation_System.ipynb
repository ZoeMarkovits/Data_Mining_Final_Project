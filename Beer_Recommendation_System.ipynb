{
 "cells": [
  {
   "cell_type": "markdown",
   "metadata": {},
   "source": [
    "## Zoe Markovits - Data Mining Project Three\n",
    "## Beer Recommendation System"
   ]
  },
  {
   "cell_type": "markdown",
   "metadata": {},
   "source": [
    "### Importing and Cleaning"
   ]
  },
  {
   "cell_type": "code",
   "execution_count": 1,
   "metadata": {},
   "outputs": [],
   "source": [
    "import numpy as np\n",
    "import pandas as pd\n",
    "import matplotlib.pyplot as plt\n",
    "import seaborn as sns\n",
    "import pickle\n",
    "%matplotlib inline"
   ]
  },
  {
   "cell_type": "code",
   "execution_count": 2,
   "metadata": {},
   "outputs": [
    {
     "name": "stdout",
     "output_type": "stream",
     "text": [
      "<class 'pandas.core.frame.DataFrame'>\n",
      "RangeIndex: 291429 entries, 0 to 291428\n",
      "Data columns (total 15 columns):\n",
      "abv                291429 non-null object\n",
      "avgreviewscore     291429 non-null float64\n",
      "beername           291428 non-null object\n",
      "brewery            291429 non-null object\n",
      "date               291429 non-null object\n",
      "feel               152772 non-null object\n",
      "look               152772 non-null object\n",
      "overall            152772 non-null object\n",
      "reviewdeviation    116268 non-null object\n",
      "reviewscore        291429 non-null float64\n",
      "reviewtext         291429 non-null object\n",
      "smell              152772 non-null object\n",
      "style              291429 non-null object\n",
      "tase               152772 non-null object\n",
      "username           291378 non-null object\n",
      "dtypes: float64(2), object(13)\n",
      "memory usage: 33.4+ MB\n"
     ]
    }
   ],
   "source": [
    "df = pd.read_json('/Users/zoemarkovits/Documents/Grad School/Spring 2019/Data Mining/Project Three/beer-data.json')\n",
    "df.info()"
   ]
  },
  {
   "cell_type": "code",
   "execution_count": 3,
   "metadata": {
    "scrolled": false
   },
   "outputs": [
    {
     "data": {
      "text/html": [
       "<div>\n",
       "<style scoped>\n",
       "    .dataframe tbody tr th:only-of-type {\n",
       "        vertical-align: middle;\n",
       "    }\n",
       "\n",
       "    .dataframe tbody tr th {\n",
       "        vertical-align: top;\n",
       "    }\n",
       "\n",
       "    .dataframe thead th {\n",
       "        text-align: right;\n",
       "    }\n",
       "</style>\n",
       "<table border=\"1\" class=\"dataframe\">\n",
       "  <thead>\n",
       "    <tr style=\"text-align: right;\">\n",
       "      <th></th>\n",
       "      <th>abv</th>\n",
       "      <th>avgreviewscore</th>\n",
       "      <th>beername</th>\n",
       "      <th>brewery</th>\n",
       "      <th>date</th>\n",
       "      <th>feel</th>\n",
       "      <th>look</th>\n",
       "      <th>overall</th>\n",
       "      <th>reviewdeviation</th>\n",
       "      <th>reviewscore</th>\n",
       "      <th>reviewtext</th>\n",
       "      <th>smell</th>\n",
       "      <th>style</th>\n",
       "      <th>tase</th>\n",
       "      <th>username</th>\n",
       "    </tr>\n",
       "  </thead>\n",
       "  <tbody>\n",
       "    <tr>\n",
       "      <th>0</th>\n",
       "      <td>5.20%\\n\\t\\t</td>\n",
       "      <td>3.60</td>\n",
       "      <td>Fat Tire Amber Ale</td>\n",
       "      <td>| New Belgium Brewing</td>\n",
       "      <td>Jul 18, 2017</td>\n",
       "      <td>feel: 3.5</td>\n",
       "      <td>look: 3.25</td>\n",
       "      <td>overall: 3.25</td>\n",
       "      <td>None</td>\n",
       "      <td>3.54</td>\n",
       "      <td>[  rDev ]</td>\n",
       "      <td>smell: 3.5</td>\n",
       "      <td>American Amber / Red Ale</td>\n",
       "      <td>taste: 3.75</td>\n",
       "      <td>petrusek23</td>\n",
       "    </tr>\n",
       "    <tr>\n",
       "      <th>1</th>\n",
       "      <td>8.70%\\n\\t\\t</td>\n",
       "      <td>4.20</td>\n",
       "      <td>Sublimely Self-Righteous Black IPA</td>\n",
       "      <td>| Stone Brewing</td>\n",
       "      <td>Aug 30, 2016</td>\n",
       "      <td>feel: 4</td>\n",
       "      <td>look: 4.25</td>\n",
       "      <td>overall: 4</td>\n",
       "      <td>None</td>\n",
       "      <td>3.96</td>\n",
       "      <td>[  rDev , A twelve ounce bottle dated 07/09/16...</td>\n",
       "      <td>smell: 3.75</td>\n",
       "      <td>American Black Ale</td>\n",
       "      <td>taste: 4</td>\n",
       "      <td>Prager62</td>\n",
       "    </tr>\n",
       "    <tr>\n",
       "      <th>2</th>\n",
       "      <td>9.20%\\n\\t\\t</td>\n",
       "      <td>3.97</td>\n",
       "      <td>Hog Heaven: Imperial Red IPA</td>\n",
       "      <td>| Avery Brewing Company</td>\n",
       "      <td>Mar 05, 2017</td>\n",
       "      <td>feel: 4</td>\n",
       "      <td>look: 4.5</td>\n",
       "      <td>overall: 4</td>\n",
       "      <td>None</td>\n",
       "      <td>3.97</td>\n",
       "      <td>[  rDev 0%, L: Hazy, opaque amber with a cream...</td>\n",
       "      <td>smell: 3.75</td>\n",
       "      <td>American Amber / Red Ale</td>\n",
       "      <td>taste: 4</td>\n",
       "      <td>HorseheadsHopHead</td>\n",
       "    </tr>\n",
       "    <tr>\n",
       "      <th>3</th>\n",
       "      <td>5.30%\\n\\t\\t</td>\n",
       "      <td>3.78</td>\n",
       "      <td>Santa's Private Reserve Ale</td>\n",
       "      <td>| Rogue Ales</td>\n",
       "      <td>Dec 20, 2016</td>\n",
       "      <td>feel: 3.75</td>\n",
       "      <td>look: 4</td>\n",
       "      <td>overall: 3.5</td>\n",
       "      <td>None</td>\n",
       "      <td>3.62</td>\n",
       "      <td>[  rDev ]</td>\n",
       "      <td>smell: 3.75</td>\n",
       "      <td>American Amber / Red Ale</td>\n",
       "      <td>taste: 3.5</td>\n",
       "      <td>DangerDawg</td>\n",
       "    </tr>\n",
       "    <tr>\n",
       "      <th>4</th>\n",
       "      <td>7.20%\\n\\t\\t</td>\n",
       "      <td>4.19</td>\n",
       "      <td>Zoe</td>\n",
       "      <td>| Maine Beer Company</td>\n",
       "      <td>Mar 27, 2017</td>\n",
       "      <td>feel: 4.25</td>\n",
       "      <td>look: 4.5</td>\n",
       "      <td>overall: 4</td>\n",
       "      <td>None</td>\n",
       "      <td>4.12</td>\n",
       "      <td>[  rDev ]</td>\n",
       "      <td>smell: 4.25</td>\n",
       "      <td>American Amber / Red Ale</td>\n",
       "      <td>taste: 4</td>\n",
       "      <td>CrimeDog</td>\n",
       "    </tr>\n",
       "  </tbody>\n",
       "</table>\n",
       "</div>"
      ],
      "text/plain": [
       "            abv  avgreviewscore                            beername  \\\n",
       "0   5.20%\\n\\t\\t            3.60                  Fat Tire Amber Ale   \n",
       "1   8.70%\\n\\t\\t            4.20  Sublimely Self-Righteous Black IPA   \n",
       "2   9.20%\\n\\t\\t            3.97        Hog Heaven: Imperial Red IPA   \n",
       "3   5.30%\\n\\t\\t            3.78         Santa's Private Reserve Ale   \n",
       "4   7.20%\\n\\t\\t            4.19                                 Zoe   \n",
       "\n",
       "                    brewery          date          feel         look  \\\n",
       "0     | New Belgium Brewing  Jul 18, 2017    feel: 3.5   look: 3.25    \n",
       "1           | Stone Brewing  Aug 30, 2016      feel: 4   look: 4.25    \n",
       "2   | Avery Brewing Company  Mar 05, 2017      feel: 4    look: 4.5    \n",
       "3              | Rogue Ales  Dec 20, 2016   feel: 3.75      look: 4    \n",
       "4      | Maine Beer Company  Mar 27, 2017   feel: 4.25    look: 4.5    \n",
       "\n",
       "           overall reviewdeviation  reviewscore  \\\n",
       "0    overall: 3.25            None         3.54   \n",
       "1       overall: 4            None         3.96   \n",
       "2       overall: 4            None         3.97   \n",
       "3     overall: 3.5            None         3.62   \n",
       "4       overall: 4            None         4.12   \n",
       "\n",
       "                                          reviewtext          smell  \\\n",
       "0                                          [  rDev ]    smell: 3.5    \n",
       "1  [  rDev , A twelve ounce bottle dated 07/09/16...   smell: 3.75    \n",
       "2  [  rDev 0%, L: Hazy, opaque amber with a cream...   smell: 3.75    \n",
       "3                                          [  rDev ]   smell: 3.75    \n",
       "4                                          [  rDev ]   smell: 4.25    \n",
       "\n",
       "                      style           tase           username  \n",
       "0  American Amber / Red Ale   taste: 3.75          petrusek23  \n",
       "1        American Black Ale      taste: 4            Prager62  \n",
       "2  American Amber / Red Ale      taste: 4   HorseheadsHopHead  \n",
       "3  American Amber / Red Ale    taste: 3.5          DangerDawg  \n",
       "4  American Amber / Red Ale      taste: 4            CrimeDog  "
      ]
     },
     "execution_count": 3,
     "metadata": {},
     "output_type": "execute_result"
    }
   ],
   "source": [
    "df.head()"
   ]
  },
  {
   "cell_type": "code",
   "execution_count": 4,
   "metadata": {},
   "outputs": [],
   "source": [
    "df = df.drop(['reviewdeviation'], axis=1)\n",
    "\n",
    "# Cleaning column names\n",
    "df.rename(columns={'abv':'ABV',\n",
    "                   'avgreviewscore':'Avg_Review_Score',\n",
    "                   'beername':'Beername',\n",
    "                   'brewery':'Brewery',\n",
    "                   'date':'Review_Date',\n",
    "                   'feel':'Review_Feel',\n",
    "                   'look':'Review_Look',\n",
    "                   'overall':'Review_Overall',\n",
    "                   'reviewscore':'Review_Score',\n",
    "                   'reviewtext':'Review_Text',\n",
    "                   'smell':'Review_Smell',\n",
    "                   'style':'Style',\n",
    "                   'tase':'Review_Taste',\n",
    "                   'username':'Reviewer_Username'}, inplace=True)\n",
    "\n",
    "#Reordering columns\n",
    "df = df[['Style','Brewery','Beername','ABV','Avg_Review_Score','Reviewer_Username','Review_Date','Review_Score',\\\n",
    "         'Review_Look','Review_Smell','Review_Taste','Review_Feel','Review_Overall','Review_Text']]\n",
    "\n",
    "#Cleaning column values\n",
    "df['Brewery'] = df['Brewery'].map(lambda x: x.lstrip('| '))\n",
    "df['ABV'] = df['ABV'].map(lambda x: x.rstrip('%\\n\\t\\t'))\n",
    "df['ABV'] = pd.to_numeric(df['ABV'], errors='coerce')\n",
    "df['Review_Look'] = df['Review_Look'].map(lambda x: str(x)[6:])\n",
    "df['Review_Look'] = pd.to_numeric(df['Review_Look'])\n",
    "df['Review_Smell'] = df['Review_Smell'].map(lambda x: str(x)[7:])\n",
    "df['Review_Smell'] = pd.to_numeric(df['Review_Smell'])\n",
    "df['Review_Taste'] = df['Review_Taste'].map(lambda x: str(x)[7:])\n",
    "df['Review_Taste'] = pd.to_numeric(df['Review_Taste'])\n",
    "df['Review_Feel'] = df['Review_Feel'].map(lambda x: str(x)[6:])\n",
    "df['Review_Feel'] = pd.to_numeric(df['Review_Feel'])\n",
    "df['Review_Overall'] = df['Review_Overall'].map(lambda x: str(x)[10:])\n",
    "df['Review_Overall'] = pd.to_numeric(df['Review_Overall'])\n",
    "df['Review_Text'] = df.Review_Text.apply(lambda x: x if len(x) > 1 else np.nan)"
   ]
  },
  {
   "cell_type": "code",
   "execution_count": 5,
   "metadata": {},
   "outputs": [],
   "source": [
    "df = df[df.Review_Text.notnull()]"
   ]
  },
  {
   "cell_type": "code",
   "execution_count": 6,
   "metadata": {},
   "outputs": [],
   "source": [
    "df['Review_Text'] = [x[1].replace(\"[  rDev , \",\"\") for x in df.Review_Text]"
   ]
  },
  {
   "cell_type": "code",
   "execution_count": 7,
   "metadata": {},
   "outputs": [
    {
     "name": "stdout",
     "output_type": "stream",
     "text": [
      "(115699, 14)\n"
     ]
    },
    {
     "data": {
      "text/html": [
       "<div>\n",
       "<style scoped>\n",
       "    .dataframe tbody tr th:only-of-type {\n",
       "        vertical-align: middle;\n",
       "    }\n",
       "\n",
       "    .dataframe tbody tr th {\n",
       "        vertical-align: top;\n",
       "    }\n",
       "\n",
       "    .dataframe thead th {\n",
       "        text-align: right;\n",
       "    }\n",
       "</style>\n",
       "<table border=\"1\" class=\"dataframe\">\n",
       "  <thead>\n",
       "    <tr style=\"text-align: right;\">\n",
       "      <th></th>\n",
       "      <th>Style</th>\n",
       "      <th>Brewery</th>\n",
       "      <th>Beername</th>\n",
       "      <th>ABV</th>\n",
       "      <th>Avg_Review_Score</th>\n",
       "      <th>Reviewer_Username</th>\n",
       "      <th>Review_Date</th>\n",
       "      <th>Review_Score</th>\n",
       "      <th>Review_Look</th>\n",
       "      <th>Review_Smell</th>\n",
       "      <th>Review_Taste</th>\n",
       "      <th>Review_Feel</th>\n",
       "      <th>Review_Overall</th>\n",
       "      <th>Review_Text</th>\n",
       "    </tr>\n",
       "  </thead>\n",
       "  <tbody>\n",
       "    <tr>\n",
       "      <th>1</th>\n",
       "      <td>American Black Ale</td>\n",
       "      <td>Stone Brewing</td>\n",
       "      <td>Sublimely Self-Righteous Black IPA</td>\n",
       "      <td>8.70</td>\n",
       "      <td>4.20</td>\n",
       "      <td>Prager62</td>\n",
       "      <td>Aug 30, 2016</td>\n",
       "      <td>3.96</td>\n",
       "      <td>4.25</td>\n",
       "      <td>3.75</td>\n",
       "      <td>4.00</td>\n",
       "      <td>4.00</td>\n",
       "      <td>4.00</td>\n",
       "      <td>A twelve ounce bottle dated 07/09/16 with enjo...</td>\n",
       "    </tr>\n",
       "    <tr>\n",
       "      <th>2</th>\n",
       "      <td>American Amber / Red Ale</td>\n",
       "      <td>Avery Brewing Company</td>\n",
       "      <td>Hog Heaven: Imperial Red IPA</td>\n",
       "      <td>9.20</td>\n",
       "      <td>3.97</td>\n",
       "      <td>HorseheadsHopHead</td>\n",
       "      <td>Mar 05, 2017</td>\n",
       "      <td>3.97</td>\n",
       "      <td>4.50</td>\n",
       "      <td>3.75</td>\n",
       "      <td>4.00</td>\n",
       "      <td>4.00</td>\n",
       "      <td>4.00</td>\n",
       "      <td>L: Hazy, opaque amber with a creamy beige head...</td>\n",
       "    </tr>\n",
       "    <tr>\n",
       "      <th>6</th>\n",
       "      <td>American Amber / Red Ale</td>\n",
       "      <td>Great Lakes Brewing Co.</td>\n",
       "      <td>Great Lakes Nosferatu</td>\n",
       "      <td>8.00</td>\n",
       "      <td>4.07</td>\n",
       "      <td>Barnoloid</td>\n",
       "      <td>Dec 03, 2016</td>\n",
       "      <td>3.90</td>\n",
       "      <td>4.25</td>\n",
       "      <td>4.25</td>\n",
       "      <td>3.75</td>\n",
       "      <td>3.75</td>\n",
       "      <td>3.75</td>\n",
       "      <td>Strikingly red! A beautiful looking beer, trul...</td>\n",
       "    </tr>\n",
       "    <tr>\n",
       "      <th>8</th>\n",
       "      <td>American Amber / Red Ale</td>\n",
       "      <td>Lagunitas Brewing Company</td>\n",
       "      <td>Censored</td>\n",
       "      <td>6.75</td>\n",
       "      <td>3.76</td>\n",
       "      <td>rodbeermunch</td>\n",
       "      <td>Dec 24, 2016</td>\n",
       "      <td>3.46</td>\n",
       "      <td>3.75</td>\n",
       "      <td>3.25</td>\n",
       "      <td>3.50</td>\n",
       "      <td>3.50</td>\n",
       "      <td>3.50</td>\n",
       "      <td>Brings out the reddish amber ale color scheme ...</td>\n",
       "    </tr>\n",
       "    <tr>\n",
       "      <th>11</th>\n",
       "      <td>American Amber / Red Ale</td>\n",
       "      <td>Bell's Brewery, Inc.</td>\n",
       "      <td>Bell's Amber Ale</td>\n",
       "      <td>5.80</td>\n",
       "      <td>3.85</td>\n",
       "      <td>Pantalones</td>\n",
       "      <td>May 17, 2017</td>\n",
       "      <td>4.03</td>\n",
       "      <td>4.25</td>\n",
       "      <td>3.75</td>\n",
       "      <td>4.25</td>\n",
       "      <td>3.75</td>\n",
       "      <td>4.00</td>\n",
       "      <td>My third bottle of this one; bottling date is ...</td>\n",
       "    </tr>\n",
       "  </tbody>\n",
       "</table>\n",
       "</div>"
      ],
      "text/plain": [
       "                       Style                    Brewery  \\\n",
       "1         American Black Ale              Stone Brewing   \n",
       "2   American Amber / Red Ale      Avery Brewing Company   \n",
       "6   American Amber / Red Ale    Great Lakes Brewing Co.   \n",
       "8   American Amber / Red Ale  Lagunitas Brewing Company   \n",
       "11  American Amber / Red Ale       Bell's Brewery, Inc.   \n",
       "\n",
       "                              Beername   ABV  Avg_Review_Score  \\\n",
       "1   Sublimely Self-Righteous Black IPA  8.70              4.20   \n",
       "2         Hog Heaven: Imperial Red IPA  9.20              3.97   \n",
       "6                Great Lakes Nosferatu  8.00              4.07   \n",
       "8                             Censored  6.75              3.76   \n",
       "11                    Bell's Amber Ale  5.80              3.85   \n",
       "\n",
       "    Reviewer_Username   Review_Date  Review_Score  Review_Look  Review_Smell  \\\n",
       "1            Prager62  Aug 30, 2016          3.96         4.25          3.75   \n",
       "2   HorseheadsHopHead  Mar 05, 2017          3.97         4.50          3.75   \n",
       "6           Barnoloid  Dec 03, 2016          3.90         4.25          4.25   \n",
       "8        rodbeermunch  Dec 24, 2016          3.46         3.75          3.25   \n",
       "11         Pantalones  May 17, 2017          4.03         4.25          3.75   \n",
       "\n",
       "    Review_Taste  Review_Feel  Review_Overall  \\\n",
       "1           4.00         4.00            4.00   \n",
       "2           4.00         4.00            4.00   \n",
       "6           3.75         3.75            3.75   \n",
       "8           3.50         3.50            3.50   \n",
       "11          4.25         3.75            4.00   \n",
       "\n",
       "                                          Review_Text  \n",
       "1   A twelve ounce bottle dated 07/09/16 with enjo...  \n",
       "2   L: Hazy, opaque amber with a creamy beige head...  \n",
       "6   Strikingly red! A beautiful looking beer, trul...  \n",
       "8   Brings out the reddish amber ale color scheme ...  \n",
       "11  My third bottle of this one; bottling date is ...  "
      ]
     },
     "execution_count": 7,
     "metadata": {},
     "output_type": "execute_result"
    }
   ],
   "source": [
    "print(df.shape)\n",
    "df.head()"
   ]
  },
  {
   "cell_type": "markdown",
   "metadata": {},
   "source": [
    "We can build two different types of recommendation systems:\n",
    "- Content Based Recommenders:\n",
    "    - Items are mapped into a feature space, and recommendations depend on specified characteristics. In this case \n",
    "      the specified characteristics will come from the text of the reviews.\n",
    "- Collaborative Filtering Recommenders:\n",
    "    - The only data under consideration are user-item ratings, and recommendations depend on user preferences. In \n",
    "      this case the user preferences will come from the scores of the reviews."
   ]
  },
  {
   "cell_type": "markdown",
   "metadata": {},
   "source": [
    "### Option One: Content Based Recommender"
   ]
  },
  {
   "cell_type": "code",
   "execution_count": 8,
   "metadata": {},
   "outputs": [
    {
     "name": "stderr",
     "output_type": "stream",
     "text": [
      "/anaconda3/lib/python3.7/site-packages/ipykernel_launcher.py:3: SettingWithCopyWarning: \n",
      "A value is trying to be set on a copy of a slice from a DataFrame.\n",
      "Try using .loc[row_indexer,col_indexer] = value instead\n",
      "\n",
      "See the caveats in the documentation: http://pandas.pydata.org/pandas-docs/stable/indexing.html#indexing-view-versus-copy\n",
      "  This is separate from the ipykernel package so we can avoid doing imports until\n"
     ]
    }
   ],
   "source": [
    "# Only keep beer information and review text \n",
    "cb_df = df[['Style','Brewery','Beername','Review_Text']]\n",
    "cb_df['Full_Beername'] = df.apply(lambda x:'%s %s' % (x['Brewery'],x['Beername']),axis=1)\n",
    "cb_df = cb_df[['Style','Brewery','Beername','Full_Beername','Review_Text']]"
   ]
  },
  {
   "cell_type": "code",
   "execution_count": 9,
   "metadata": {},
   "outputs": [
    {
     "data": {
      "text/html": [
       "<div>\n",
       "<style scoped>\n",
       "    .dataframe tbody tr th:only-of-type {\n",
       "        vertical-align: middle;\n",
       "    }\n",
       "\n",
       "    .dataframe tbody tr th {\n",
       "        vertical-align: top;\n",
       "    }\n",
       "\n",
       "    .dataframe thead th {\n",
       "        text-align: right;\n",
       "    }\n",
       "</style>\n",
       "<table border=\"1\" class=\"dataframe\">\n",
       "  <thead>\n",
       "    <tr style=\"text-align: right;\">\n",
       "      <th></th>\n",
       "      <th>Style</th>\n",
       "      <th>Brewery</th>\n",
       "      <th>Beername</th>\n",
       "      <th>Full_Beername</th>\n",
       "      <th>Review_Text</th>\n",
       "    </tr>\n",
       "  </thead>\n",
       "  <tbody>\n",
       "    <tr>\n",
       "      <th>1</th>\n",
       "      <td>American Black Ale</td>\n",
       "      <td>Stone Brewing</td>\n",
       "      <td>Sublimely Self-Righteous Black IPA</td>\n",
       "      <td>Stone Brewing Sublimely Self-Righteous Black IPA</td>\n",
       "      <td>A twelve ounce bottle dated 07/09/16 with enjo...</td>\n",
       "    </tr>\n",
       "    <tr>\n",
       "      <th>2</th>\n",
       "      <td>American Amber / Red Ale</td>\n",
       "      <td>Avery Brewing Company</td>\n",
       "      <td>Hog Heaven: Imperial Red IPA</td>\n",
       "      <td>Avery Brewing Company Hog Heaven: Imperial Red...</td>\n",
       "      <td>L: Hazy, opaque amber with a creamy beige head...</td>\n",
       "    </tr>\n",
       "    <tr>\n",
       "      <th>6</th>\n",
       "      <td>American Amber / Red Ale</td>\n",
       "      <td>Great Lakes Brewing Co.</td>\n",
       "      <td>Great Lakes Nosferatu</td>\n",
       "      <td>Great Lakes Brewing Co. Great Lakes Nosferatu</td>\n",
       "      <td>Strikingly red! A beautiful looking beer, trul...</td>\n",
       "    </tr>\n",
       "    <tr>\n",
       "      <th>8</th>\n",
       "      <td>American Amber / Red Ale</td>\n",
       "      <td>Lagunitas Brewing Company</td>\n",
       "      <td>Censored</td>\n",
       "      <td>Lagunitas Brewing Company Censored</td>\n",
       "      <td>Brings out the reddish amber ale color scheme ...</td>\n",
       "    </tr>\n",
       "    <tr>\n",
       "      <th>11</th>\n",
       "      <td>American Amber / Red Ale</td>\n",
       "      <td>Bell's Brewery, Inc.</td>\n",
       "      <td>Bell's Amber Ale</td>\n",
       "      <td>Bell's Brewery, Inc. Bell's Amber Ale</td>\n",
       "      <td>My third bottle of this one; bottling date is ...</td>\n",
       "    </tr>\n",
       "  </tbody>\n",
       "</table>\n",
       "</div>"
      ],
      "text/plain": [
       "                       Style                    Brewery  \\\n",
       "1         American Black Ale              Stone Brewing   \n",
       "2   American Amber / Red Ale      Avery Brewing Company   \n",
       "6   American Amber / Red Ale    Great Lakes Brewing Co.   \n",
       "8   American Amber / Red Ale  Lagunitas Brewing Company   \n",
       "11  American Amber / Red Ale       Bell's Brewery, Inc.   \n",
       "\n",
       "                              Beername  \\\n",
       "1   Sublimely Self-Righteous Black IPA   \n",
       "2         Hog Heaven: Imperial Red IPA   \n",
       "6                Great Lakes Nosferatu   \n",
       "8                             Censored   \n",
       "11                    Bell's Amber Ale   \n",
       "\n",
       "                                        Full_Beername  \\\n",
       "1    Stone Brewing Sublimely Self-Righteous Black IPA   \n",
       "2   Avery Brewing Company Hog Heaven: Imperial Red...   \n",
       "6       Great Lakes Brewing Co. Great Lakes Nosferatu   \n",
       "8                  Lagunitas Brewing Company Censored   \n",
       "11              Bell's Brewery, Inc. Bell's Amber Ale   \n",
       "\n",
       "                                          Review_Text  \n",
       "1   A twelve ounce bottle dated 07/09/16 with enjo...  \n",
       "2   L: Hazy, opaque amber with a creamy beige head...  \n",
       "6   Strikingly red! A beautiful looking beer, trul...  \n",
       "8   Brings out the reddish amber ale color scheme ...  \n",
       "11  My third bottle of this one; bottling date is ...  "
      ]
     },
     "execution_count": 9,
     "metadata": {},
     "output_type": "execute_result"
    }
   ],
   "source": [
    "cb_df.head()"
   ]
  },
  {
   "cell_type": "markdown",
   "metadata": {},
   "source": [
    "#### Text Cleaning"
   ]
  },
  {
   "cell_type": "code",
   "execution_count": 10,
   "metadata": {},
   "outputs": [],
   "source": [
    "import nltk\n",
    "from nltk.corpus import stopwords\n",
    "from nltk.stem import PorterStemmer\n",
    "from nltk.tokenize import word_tokenize\n",
    "from nltk.tokenize import sent_tokenize\n",
    "from textblob import TextBlob\n",
    "import string\n",
    "import re"
   ]
  },
  {
   "cell_type": "code",
   "execution_count": 11,
   "metadata": {},
   "outputs": [],
   "source": [
    "def cleaner(document):\n",
    "    characters = ['?','!','.',',',':',';']\n",
    "    stoplist = stopwords.words('english') + characters\n",
    "    new_reviews = []\n",
    "    for i, sentence in enumerate(document):\n",
    "        new_sentence = re.sub(r'[^a-zA-Z ]','', sentence)\n",
    "        new_sentence = new_sentence.lower()\n",
    "        new_sentence = new_sentence.split()\n",
    "        new_sentence = [word for word in new_sentence if word not in stoplist]\n",
    "        new_sentence = ' '.join(new_sentence)\n",
    "        new_reviews.append(new_sentence)   \n",
    "    return new_reviews"
   ]
  },
  {
   "cell_type": "code",
   "execution_count": 12,
   "metadata": {},
   "outputs": [],
   "source": [
    "cb_df['Review_Sentences'] = cb_df.Review_Text.apply(sent_tokenize)\n",
    "cb_df['Clean_Review_Text'] = cb_df['Review_Sentences'].apply(cleaner)"
   ]
  },
  {
   "cell_type": "code",
   "execution_count": 13,
   "metadata": {},
   "outputs": [],
   "source": [
    "cb_df = cb_df.drop(['Review_Sentences'], axis=1)"
   ]
  },
  {
   "cell_type": "code",
   "execution_count": 14,
   "metadata": {},
   "outputs": [
    {
     "data": {
      "text/plain": [
       "40    Medium body, quite spicy mouth feel but not ov...\n",
       "52    What you see is what you get; the smell and ta...\n",
       "57    Poured from a clear 11.2 oz. bottle. Has a gol...\n",
       "59    Just returned from a vacation in New Mexico an...\n",
       "62    A finger of mocha foam tops off this chile bee...\n",
       "Name: Review_Text, dtype: object"
      ]
     },
     "execution_count": 14,
     "metadata": {},
     "output_type": "execute_result"
    }
   ],
   "source": [
    "cb_df.Review_Text[10:15]"
   ]
  },
  {
   "cell_type": "code",
   "execution_count": 15,
   "metadata": {},
   "outputs": [
    {
     "data": {
      "text/plain": [
       "40    [medium body quite spicy mouth feel powering, ...\n",
       "52    [see get smell taste fullon jalapeo, spiceheat...\n",
       "57    [poured clear oz, bottle, golden color head wh...\n",
       "59    [returned vacation new mexico fantastic chili ...\n",
       "62    [finger mocha foam tops chile beer, black body...\n",
       "Name: Clean_Review_Text, dtype: object"
      ]
     },
     "execution_count": 15,
     "metadata": {},
     "output_type": "execute_result"
    }
   ],
   "source": [
    "cb_df.Clean_Review_Text[10:15]"
   ]
  },
  {
   "cell_type": "code",
   "execution_count": 16,
   "metadata": {},
   "outputs": [],
   "source": [
    "cb_df['Clean_Review_Text'] = cb_df['Clean_Review_Text'].map(lambda x: str(x)[2:])"
   ]
  },
  {
   "cell_type": "code",
   "execution_count": 17,
   "metadata": {},
   "outputs": [],
   "source": [
    "cb_df['Clean_Review_Text'] = cb_df['Clean_Review_Text'].map(lambda x: str(x)[:-2])"
   ]
  },
  {
   "cell_type": "code",
   "execution_count": 18,
   "metadata": {},
   "outputs": [],
   "source": [
    "pd.set_option('display.max_colwidth', -1)"
   ]
  },
  {
   "cell_type": "code",
   "execution_count": 19,
   "metadata": {
    "scrolled": false
   },
   "outputs": [
    {
     "data": {
      "text/html": [
       "<div>\n",
       "<style scoped>\n",
       "    .dataframe tbody tr th:only-of-type {\n",
       "        vertical-align: middle;\n",
       "    }\n",
       "\n",
       "    .dataframe tbody tr th {\n",
       "        vertical-align: top;\n",
       "    }\n",
       "\n",
       "    .dataframe thead th {\n",
       "        text-align: right;\n",
       "    }\n",
       "</style>\n",
       "<table border=\"1\" class=\"dataframe\">\n",
       "  <thead>\n",
       "    <tr style=\"text-align: right;\">\n",
       "      <th></th>\n",
       "      <th>Style</th>\n",
       "      <th>Brewery</th>\n",
       "      <th>Beername</th>\n",
       "      <th>Full_Beername</th>\n",
       "      <th>Review_Text</th>\n",
       "      <th>Clean_Review_Text</th>\n",
       "    </tr>\n",
       "  </thead>\n",
       "  <tbody>\n",
       "    <tr>\n",
       "      <th>1</th>\n",
       "      <td>American Black Ale</td>\n",
       "      <td>Stone Brewing</td>\n",
       "      <td>Sublimely Self-Righteous Black IPA</td>\n",
       "      <td>Stone Brewing Sublimely Self-Righteous Black IPA</td>\n",
       "      <td>A twelve ounce bottle dated 07/09/16 with enjoy by 11/06/16 poured in a Stone snifter for the review.</td>\n",
       "      <td>twelve ounce bottle dated enjoy poured stone snifter review</td>\n",
       "    </tr>\n",
       "    <tr>\n",
       "      <th>2</th>\n",
       "      <td>American Amber / Red Ale</td>\n",
       "      <td>Avery Brewing Company</td>\n",
       "      <td>Hog Heaven: Imperial Red IPA</td>\n",
       "      <td>Avery Brewing Company Hog Heaven: Imperial Red IPA</td>\n",
       "      <td>L: Hazy, opaque amber with a creamy beige head that sticks around a little while, but eventually dies down.  A thin sticky off white lacing is left behind.</td>\n",
       "      <td>l hazy opaque amber creamy beige head sticks around little eventually dies', 'thin sticky white lacing left behind</td>\n",
       "    </tr>\n",
       "    <tr>\n",
       "      <th>6</th>\n",
       "      <td>American Amber / Red Ale</td>\n",
       "      <td>Great Lakes Brewing Co.</td>\n",
       "      <td>Great Lakes Nosferatu</td>\n",
       "      <td>Great Lakes Brewing Co. Great Lakes Nosferatu</td>\n",
       "      <td>Strikingly red! A beautiful looking beer, truly outstanding in terms of how this looks, with a nice caramel and bready aroma amongst the blood claret visage. In terms of the mouthfeel, this is a chewy, full one. Fairly smooth. Malt profile overwhelms somewhat. Would have liked more balance but I think for an imperial red ale this lives up to it's promise.</td>\n",
       "      <td>strikingly red', 'beautiful looking beer truly outstanding terms looks nice caramel bready aroma amongst blood claret visage', 'terms mouthfeel chewy full one', 'fairly smooth', 'malt profile overwhelms somewhat', 'would liked balance think imperial red ale lives promise</td>\n",
       "    </tr>\n",
       "    <tr>\n",
       "      <th>8</th>\n",
       "      <td>American Amber / Red Ale</td>\n",
       "      <td>Lagunitas Brewing Company</td>\n",
       "      <td>Censored</td>\n",
       "      <td>Lagunitas Brewing Company Censored</td>\n",
       "      <td>Brings out the reddish amber ale color scheme to fit the bill style wise.  Good clarity, reeks of caramel and copper stuff.</td>\n",
       "      <td>brings reddish amber ale color scheme fit bill style wise', 'good clarity reeks caramel copper stuff</td>\n",
       "    </tr>\n",
       "    <tr>\n",
       "      <th>11</th>\n",
       "      <td>American Amber / Red Ale</td>\n",
       "      <td>Bell's Brewery, Inc.</td>\n",
       "      <td>Bell's Amber Ale</td>\n",
       "      <td>Bell's Brewery, Inc. Bell's Amber Ale</td>\n",
       "      <td>My third bottle of this one; bottling date is March 20th, 2017 and slightly above that the label mentions a 6-month shelf life.</td>\n",
       "      <td>third bottle one bottling date march th slightly label mentions month shelf life</td>\n",
       "    </tr>\n",
       "  </tbody>\n",
       "</table>\n",
       "</div>"
      ],
      "text/plain": [
       "                       Style                    Brewery  \\\n",
       "1   American Black Ale        Stone Brewing               \n",
       "2   American Amber / Red Ale  Avery Brewing Company       \n",
       "6   American Amber / Red Ale  Great Lakes Brewing Co.     \n",
       "8   American Amber / Red Ale  Lagunitas Brewing Company   \n",
       "11  American Amber / Red Ale  Bell's Brewery, Inc.        \n",
       "\n",
       "                              Beername  \\\n",
       "1   Sublimely Self-Righteous Black IPA   \n",
       "2   Hog Heaven: Imperial Red IPA         \n",
       "6   Great Lakes Nosferatu                \n",
       "8   Censored                             \n",
       "11  Bell's Amber Ale                     \n",
       "\n",
       "                                         Full_Beername  \\\n",
       "1   Stone Brewing Sublimely Self-Righteous Black IPA     \n",
       "2   Avery Brewing Company Hog Heaven: Imperial Red IPA   \n",
       "6   Great Lakes Brewing Co. Great Lakes Nosferatu        \n",
       "8   Lagunitas Brewing Company Censored                   \n",
       "11  Bell's Brewery, Inc. Bell's Amber Ale                \n",
       "\n",
       "                                                                                                                                                                                                                                                                                                                                                              Review_Text  \\\n",
       "1   A twelve ounce bottle dated 07/09/16 with enjoy by 11/06/16 poured in a Stone snifter for the review.                                                                                                                                                                                                                                                                   \n",
       "2   L: Hazy, opaque amber with a creamy beige head that sticks around a little while, but eventually dies down.  A thin sticky off white lacing is left behind.                                                                                                                                                                                                             \n",
       "6   Strikingly red! A beautiful looking beer, truly outstanding in terms of how this looks, with a nice caramel and bready aroma amongst the blood claret visage. In terms of the mouthfeel, this is a chewy, full one. Fairly smooth. Malt profile overwhelms somewhat. Would have liked more balance but I think for an imperial red ale this lives up to it's promise.   \n",
       "8   Brings out the reddish amber ale color scheme to fit the bill style wise.  Good clarity, reeks of caramel and copper stuff.                                                                                                                                                                                                                                             \n",
       "11  My third bottle of this one; bottling date is March 20th, 2017 and slightly above that the label mentions a 6-month shelf life.                                                                                                                                                                                                                                         \n",
       "\n",
       "                                                                                                                                                                                                                                                                  Clean_Review_Text  \n",
       "1   twelve ounce bottle dated enjoy poured stone snifter review                                                                                                                                                                                                                      \n",
       "2   l hazy opaque amber creamy beige head sticks around little eventually dies', 'thin sticky white lacing left behind                                                                                                                                                               \n",
       "6   strikingly red', 'beautiful looking beer truly outstanding terms looks nice caramel bready aroma amongst blood claret visage', 'terms mouthfeel chewy full one', 'fairly smooth', 'malt profile overwhelms somewhat', 'would liked balance think imperial red ale lives promise  \n",
       "8   brings reddish amber ale color scheme fit bill style wise', 'good clarity reeks caramel copper stuff                                                                                                                                                                             \n",
       "11  third bottle one bottling date march th slightly label mentions month shelf life                                                                                                                                                                                                 "
      ]
     },
     "execution_count": 19,
     "metadata": {},
     "output_type": "execute_result"
    }
   ],
   "source": [
    "cb_df.head()"
   ]
  },
  {
   "cell_type": "markdown",
   "metadata": {},
   "source": [
    "#### Topic Modeling"
   ]
  },
  {
   "cell_type": "markdown",
   "metadata": {},
   "source": [
    "We use topic modeling to pull out specific characteristics from the text of each review. Once we find our given topics, we will determine which topic each review and each beer falls into. \n",
    "\n",
    "Our topic modeling function first uses CountVectorizer to convert our review text to a matrix of token counts. Once we have this sparse matrix we use non-negative matrix factorization (NMF) to factor this high-dimensional matrix into a low-dimensionality representation. NMF finds our topics by taking in our sparse matrix of token counts and decomposes it into two matrices, one containing the topics discovered from the documents, and one containing the membership weights for the topics in each document."
   ]
  },
  {
   "cell_type": "code",
   "execution_count": 20,
   "metadata": {},
   "outputs": [],
   "source": [
    "from sklearn.feature_extraction.text import CountVectorizer\n",
    "from sklearn.decomposition import NMF"
   ]
  },
  {
   "cell_type": "code",
   "execution_count": 21,
   "metadata": {},
   "outputs": [],
   "source": [
    "characters = ['?','!','.',',',':',';']\n",
    "# We get rid of common words that appear in all reviews and have nothing to do with the description of the beer itself\n",
    "common_words = ['beer','brew','brewery','glass','bottle','pours','poured','tap']\n",
    "stoplist = stopwords.words('english') + characters + common_words\n",
    "\n",
    "def topic_model_text(documents, number_of_topics, number_of_top_words):\n",
    "    vectorizer = CountVectorizer(stop_words=stoplist, max_df=.75, min_df=.05)\n",
    "    tf = vectorizer.fit_transform(documents).toarray()\n",
    "    feature_names = vectorizer.get_feature_names()\n",
    "    vec_df = pd.DataFrame(tf, columns=feature_names)\n",
    "    nmf = NMF(n_components=number_of_topics, random_state=1).fit(tf)\n",
    "    print_top_words(nmf, feature_names, number_of_top_words)\n",
    "\n",
    "def print_top_words(model, feature_names, number_of_top_words):\n",
    "    for topic_idx, topic in enumerate(model.components_):\n",
    "        print(\"Topic #%d:\" % topic_idx)\n",
    "        print(\" \".join([feature_names[i]\n",
    "                        for i in topic.argsort()[:-number_of_top_words - 1:-1]]))"
   ]
  },
  {
   "cell_type": "markdown",
   "metadata": {},
   "source": [
    "We run and test our topic_model function with varying numbers of topics until we can see distinct groups forming. "
   ]
  },
  {
   "cell_type": "code",
   "execution_count": 22,
   "metadata": {},
   "outputs": [],
   "source": [
    "Clean_Review_Text = cb_df.Clean_Review_Text.values.tolist()"
   ]
  },
  {
   "cell_type": "code",
   "execution_count": 23,
   "metadata": {},
   "outputs": [
    {
     "name": "stdout",
     "output_type": "stream",
     "text": [
      "Topic #0:\n",
      "malt color style retention overall lacing aroma carbonation pale amber great clear smooth mouthfeel bitterness golden hop head hazy good finger flavor finish dark hops\n",
      "Topic #1:\n",
      "head white color lacing clear golden amber hazy finger retention orange thin pale slightly nose black aroma carbonation much smell bit hop finish flavor bitterness\n",
      "Topic #2:\n",
      "light finish brown carbonation finger thin smooth white clear golden bitterness lacing retention style orange body good hops hop head hazy great flavor bit amber\n",
      "Topic #3:\n",
      "nice finish smooth lacing overall mouthfeel orange smell golden really amber bitterness aroma hop head hazy great good flavor dark finger bit hops color clear\n",
      "Topic #4:\n",
      "dark brown head black lacing thin finger smooth color nose mouthfeel bitterness retention ml overall much finish smell hop clear carbonation body bit aroma flavor\n",
      "Topic #5:\n",
      "like really much style smell nose black orange head served good finger golden flavor great finish hazy white color dark hops clear carbonation brown body\n",
      "Topic #6:\n",
      "good retention lacing carbonation overall color style mouthfeel smooth finger great golden hazy flavor head hop finish white dark clear brown body black bitterness bit\n",
      "Topic #7:\n",
      "taste smell mouthfeel aroma overall much nose head color slightly smooth oz golden carbonation bitterness black body finish hazy great good flavor finger amber bit\n",
      "Topic #8:\n",
      "hops bitterness pale nose orange amber aroma finish golden style overall hazy white pint slightly finger great flavor head good clear dark color carbonation brown\n",
      "Topic #9:\n",
      "sweet color slightly nose overall finish smooth aroma style amber smell bitterness great good golden hazy flavor finger head white carbonation dark clear hops brown\n",
      "Topic #10:\n",
      "one really finger style much smell black nose ml served overall flavor dark golden finish good great hazy white color hop clear carbonation brown body\n",
      "Topic #11:\n",
      "notes aroma color retention carbonation finish taste lacing black body style hazy orange ml smooth bitterness served nose great good golden flavor white clear finger\n",
      "Topic #12:\n",
      "hop bitterness nose finish mouthfeel slightly clear pale orange smooth white golden amber head much hazy medium carbonation great good flavor brown aroma bit finger\n",
      "Topic #13:\n",
      "flavor aroma mouthfeel overall much really slightly head amber black thin well bitterness color style hazy great good golden white finish finger dark hops clear\n",
      "Topic #14:\n",
      "ale pale brown style amber ml golden much clear color carbonation body hops hop head hazy great good dark flavor finish finger light black bitterness\n",
      "Topic #15:\n",
      "bit nose much thin mouthfeel head bitterness slightly overall finish served style hazy amber well brown carbonation great good golden flavor aroma body black finger\n",
      "Topic #16:\n",
      "body medium carbonation finish slightly bitterness orange overall mouthfeel white smooth hazy thin aroma nose finger clear amber ml golden style great good flavor black\n",
      "Topic #17:\n",
      "little much really style head smell thin body nose bitterness black carbonation mouthfeel orange finish great good golden flavor hazy color finger dark hops clear\n",
      "Topic #18:\n",
      "well great really finish smooth nose style mouthfeel bitterness overall orange slightly black hazy ml flavor golden good finger white dark color hop clear carbonation\n",
      "Topic #19:\n",
      "pint served oz ml brown slightly lacing smooth nose black style retention much thin hazy clear body finger great amber good golden flavor finish aroma\n"
     ]
    }
   ],
   "source": [
    "topic_model_text(Clean_Review_Text, number_of_topics=20, number_of_top_words=25)"
   ]
  },
  {
   "cell_type": "code",
   "execution_count": 24,
   "metadata": {},
   "outputs": [
    {
     "name": "stdout",
     "output_type": "stream",
     "text": [
      "Topic #0:\n",
      "malt hop great style bitterness carbonation smooth overall well finish aroma retention pale body mouthfeel clear lacing medium amber nose hazy golden good white flavor\n",
      "Topic #1:\n",
      "head white lacing clear golden hazy orange amber finger thin body retention carbonation medium slightly pale pint nose served little oz black mouthfeel much ml\n",
      "Topic #2:\n",
      "light finish carbonation medium brown smooth finger thin bitterness white clear body orange golden pint overall mouthfeel great slightly lacing nose retention style color dark\n",
      "Topic #3:\n",
      "nice finish great smooth well really hop lacing overall mouthfeel bitterness orange nose bit medium carbonation golden slightly smell amber aroma good flavor brown finger\n",
      "Topic #4:\n",
      "dark brown head black lacing thin finger smooth medium pint oz body finish nose served well ml bit mouthfeel little great overall retention carbonation much\n",
      "Topic #5:\n",
      "like really little much well style nose smell great bit black orange head thin body carbonation flavor hazy amber aroma good golden bitterness clear finish\n",
      "Topic #6:\n",
      "good retention lacing carbonation overall mouthfeel style smooth well finish bit great golden white hazy head hop flavor color finger dark clear brown body black\n",
      "Topic #7:\n",
      "taste smell mouthfeel bit much overall nose aroma little smooth well great slightly carbonation head bitterness really medium thin oz golden hop finish black hazy\n",
      "Topic #8:\n",
      "hops finish medium bitterness nose orange well pale body amber pint great aroma slightly smooth really golden style overall carbonation hazy oz white mouthfeel dark\n",
      "Topic #9:\n",
      "sweet finish slightly nose smooth overall carbonation body medium aroma style little well smell amber mouthfeel served bitterness orange really thin white ml much taste\n",
      "Topic #10:\n",
      "one really well style finger great much served pint oz little nose ml black smell overall finish flavor golden good dark carbonation color clear head\n",
      "Topic #11:\n",
      "notes body carbonation medium finish aroma well great smooth orange retention bitterness slightly hazy ml nose really style black overall served taste lacing mouthfeel golden\n",
      "Topic #12:\n",
      "color head amber golden aroma carbonation lacing hazy retention clear style overall slightly smell great oz good finish hop flavor white finger dark brown body\n",
      "Topic #13:\n",
      "flavor aroma bit hop little body bitterness medium well mouthfeel much slightly finish overall really carbonation thin orange amber nose style smooth black hazy served\n",
      "Topic #14:\n",
      "ale pale brown style pint amber ml served oz great golden hop much clear aroma really hops color dark finger finish body flavor bitterness bit\n"
     ]
    }
   ],
   "source": [
    "topic_model_text(Clean_Review_Text, number_of_topics=15, number_of_top_words=25)"
   ]
  },
  {
   "cell_type": "code",
   "execution_count": 25,
   "metadata": {},
   "outputs": [
    {
     "name": "stdout",
     "output_type": "stream",
     "text": [
      "Topic #0:\n",
      "malt hop aroma flavor bitterness body carbonation great style color medium well finish overall mouthfeel pale smooth bit notes amber clear retention slightly ale lacing\n",
      "Topic #1:\n",
      "head white color lacing clear golden amber hazy orange finger thin retention carbonation body medium pale slightly aroma pint little nose served oz black much\n",
      "Topic #2:\n",
      "light notes finish carbonation body medium aroma brown smooth bitterness orange ale flavor great bit finger thin white retention well slightly nose style clear overall\n",
      "Topic #3:\n",
      "nice finish great well smooth hop really mouthfeel bit overall lacing flavor bitterness orange notes medium nose carbonation slightly golden amber smell finger color little\n",
      "Topic #4:\n",
      "dark brown head black lacing thin ale finger smooth body color pint medium oz served bit finish ml nose well little mouthfeel great overall retention\n",
      "Topic #5:\n",
      "like one really flavor little much well bit style ale nose aroma hop great smell served pale body black mouthfeel bitterness ml orange oz pint\n",
      "Topic #6:\n",
      "good notes retention carbonation lacing overall color style smooth finish mouthfeel well ale body great bit ml black hazy pint really served dark finger brown\n",
      "Topic #7:\n",
      "taste smell mouthfeel aroma bit overall much nose carbonation notes little well medium slightly smooth bitterness great really finish color head hop body thin oz\n",
      "Topic #8:\n",
      "hops ale pale finish bitterness medium orange nose pint amber well body great style aroma golden slightly oz smooth really served ml overall white hazy\n",
      "Topic #9:\n",
      "sweet aroma finish slightly body flavor medium carbonation overall nose color smooth bit little bitterness well notes mouthfeel amber orange style thin really served ml\n"
     ]
    }
   ],
   "source": [
    "topic_model_text(Clean_Review_Text, number_of_topics=10, number_of_top_words=25)"
   ]
  },
  {
   "cell_type": "code",
   "execution_count": 26,
   "metadata": {},
   "outputs": [
    {
     "name": "stdout",
     "output_type": "stream",
     "text": [
      "Topic #0:\n",
      "malt hops sweet good aroma taste flavor like one hop bit well little body finish ale really carbonation style bitterness overall mouthfeel medium much great\n",
      "Topic #1:\n",
      "head white color lacing clear golden amber hazy retention orange thin finger carbonation body medium slightly pale good pint aroma taste nose little served oz\n",
      "Topic #2:\n",
      "light notes finish carbonation body medium aroma malt good smooth retention bitterness brown great ale orange flavor finger hop thin lacing white taste overall slightly\n",
      "Topic #3:\n",
      "nice good taste finish great smooth well mouthfeel notes overall bit really smell lacing hop nose bitterness carbonation one orange medium flavor color slightly golden\n",
      "Topic #4:\n",
      "dark brown head black lacing like thin one little bit finger taste smooth color ale body well sweet nose much pint oz mouthfeel served flavor\n"
     ]
    }
   ],
   "source": [
    "topic_model_text(Clean_Review_Text, number_of_topics=5, number_of_top_words=25)"
   ]
  },
  {
   "cell_type": "markdown",
   "metadata": {},
   "source": [
    "- Topic 0: Probably IPA Beers due to the words: malt, hops, sweet, good aroma, hop, ale, bitterness\n",
    "- Topic 1: Probably Amber Beers due to the words: color, clear, golden, amber, hazy, orange, thin, medium    \n",
    "- Topic 2: Probalby Light Beers due to the words: light notes, smooth, thin, lacing, white\n",
    "- Topic 3: Probably Pilsners or Lagers due to the words: smooth, lacing, hop, orange, medium, slightly golden\n",
    "- Topic 4: Probably Dark Beers due to the words: dark, brown, black, lacing, smooth color, sweet"
   ]
  },
  {
   "cell_type": "code",
   "execution_count": 27,
   "metadata": {},
   "outputs": [],
   "source": [
    "def topic_model_values(documents, number_of_topics, number_of_top_words):\n",
    "    vectorizer = CountVectorizer(stop_words=stoplist, max_df=.75, min_df=.05)\n",
    "    tf = vectorizer.fit_transform(documents).toarray()\n",
    "    feature_names = vectorizer.get_feature_names()\n",
    "    vec_df = pd.DataFrame(tf, columns=feature_names)\n",
    "    nmf = NMF(n_components=number_of_topics, random_state=1).fit(tf)\n",
    "    print(nmf.components_)\n",
    "    print(nmf.components_.shape)\n",
    "    return nmf.transform(vec_df)"
   ]
  },
  {
   "cell_type": "code",
   "execution_count": 28,
   "metadata": {},
   "outputs": [
    {
     "name": "stdout",
     "output_type": "stream",
     "text": [
      "[[2.18769644e+00 6.37865906e-01 4.76423789e+00 2.74507348e+00\n",
      "  2.01108567e+00 1.32893533e-01 2.21813891e+00 0.00000000e+00\n",
      "  2.11051932e+00 1.60438561e-01 1.22287871e+00 0.00000000e+00\n",
      "  0.00000000e+00 2.19901600e+00 4.44894619e+00 0.00000000e+00\n",
      "  5.06027741e+00 1.67343482e+00 1.27365374e-01 0.00000000e+00\n",
      "  3.21775913e+00 6.11111664e+00 0.00000000e+00 0.00000000e+00\n",
      "  3.94580004e+00 2.45032780e+00 8.66000146e+00 1.73196172e+00\n",
      "  1.52196701e-01 1.87529071e+00 1.70238950e+00 0.00000000e+00\n",
      "  1.43054783e+00 1.17339885e+00 3.36101587e+00 5.81015834e-01\n",
      "  1.89459832e+00 1.35358495e-01 1.60615127e+00 2.04068520e-01\n",
      "  2.13295756e+00 1.60338820e-01 1.94017808e-01 1.23221977e+00\n",
      "  1.22299871e+00 1.31594144e+00 2.05900444e+00 5.37603668e+00\n",
      "  4.53623118e+00 1.63276799e-01 2.68314984e+00 0.00000000e+00]\n",
      " [0.00000000e+00 1.86962793e+00 5.84466781e-01 1.93679920e-01\n",
      "  0.00000000e+00 3.02771549e-01 1.08549961e+00 0.00000000e+00\n",
      "  1.26299133e+00 2.33648684e+00 5.00801428e+00 0.00000000e+00\n",
      "  1.37979963e+00 0.00000000e+00 0.00000000e+00 2.30759336e+00\n",
      "  7.37818666e-01 0.00000000e+00 1.85368073e+00 1.11636090e+01\n",
      "  0.00000000e+00 0.00000000e+00 3.78254619e+00 0.00000000e+00\n",
      "  0.00000000e+00 4.99899336e-01 0.00000000e+00 9.07509643e-01\n",
      "  1.02349009e-01 2.50569993e-01 2.87100456e-01 0.00000000e+00\n",
      "  5.37370666e-01 0.00000000e+00 0.00000000e+00 1.47944409e+00\n",
      "  2.04310612e-01 4.10430339e-01 8.39293776e-01 6.53829876e-01\n",
      "  0.00000000e+00 1.56468120e+00 4.70502747e-01 8.53823473e-01\n",
      "  3.11944111e-01 0.00000000e+00 0.00000000e+00 1.80979429e-02\n",
      "  5.74172559e-01 1.39838907e+00 0.00000000e+00 5.31941970e+00]\n",
      " [3.65793955e-01 6.79870927e-02 7.21468190e-01 1.83962705e-01\n",
      "  5.38400370e-01 0.00000000e+00 1.30474820e+00 4.90935304e-01\n",
      "  1.74855913e+00 1.93303711e-01 1.51992052e-01 0.00000000e+00\n",
      "  2.99584068e-01 1.95233477e+00 3.30832941e-01 1.49897220e-01\n",
      "  5.87721813e-01 4.11530756e-01 8.11701440e-02 0.00000000e+00\n",
      "  2.80731105e-01 0.00000000e+00 2.74241789e-01 1.35384522e+01\n",
      "  0.00000000e+00 0.00000000e+00 6.67676740e-01 1.22535151e+00\n",
      "  1.22184346e-01 2.17875008e-01 0.00000000e+00 0.00000000e+00\n",
      "  1.30604430e-01 3.19891366e+00 0.00000000e+00 3.35106292e-01\n",
      "  2.35377692e-01 0.00000000e+00 1.22643326e-01 1.52707272e-01\n",
      "  0.00000000e+00 5.38659777e-01 0.00000000e+00 2.22847590e-01\n",
      "  0.00000000e+00 5.82040087e-01 1.94724542e-01 0.00000000e+00\n",
      "  2.62007497e-01 2.77070059e-01 1.92865709e-01 2.65762355e-01]\n",
      " [8.70939742e-02 1.57387851e-02 0.00000000e+00 6.62295974e-01\n",
      "  3.71697575e-01 3.05176355e-02 0.00000000e+00 0.00000000e+00\n",
      "  3.63707562e-01 0.00000000e+00 1.59230111e-01 0.00000000e+00\n",
      "  0.00000000e+00 1.37059921e+00 2.34816555e-01 1.05483013e-01\n",
      "  2.17160766e+00 1.03746737e+00 0.00000000e+00 0.00000000e+00\n",
      "  5.29143411e-01 0.00000000e+00 5.90977098e-01 0.00000000e+00\n",
      "  0.00000000e+00 8.75361207e-02 0.00000000e+00 2.80459946e-01\n",
      "  2.24022518e-03 8.02053766e-01 0.00000000e+00 1.35019720e+01\n",
      "  4.14629349e-01 7.31603918e-01 3.23473632e-01 3.12623296e-01\n",
      "  7.08759805e-01 0.00000000e+00 0.00000000e+00 1.58045455e-03\n",
      "  6.39633686e-01 0.00000000e+00 0.00000000e+00 1.26732699e-01\n",
      "  6.31198833e-01 1.00829894e+00 5.93379254e-02 0.00000000e+00\n",
      "  1.74761008e+00 0.00000000e+00 9.88501426e-01 0.00000000e+00]\n",
      " [5.08460225e-01 0.00000000e+00 3.42404843e-01 7.33053429e-01\n",
      "  3.68659278e-02 2.64264357e+00 5.05404887e-01 7.18692259e+00\n",
      "  1.79301864e-01 0.00000000e+00 5.27601303e-01 9.63021648e+00\n",
      "  5.93867485e-01 3.02815930e-01 3.77476862e-01 0.00000000e+00\n",
      "  0.00000000e+00 2.58223384e-01 0.00000000e+00 4.16918967e+00\n",
      "  0.00000000e+00 0.00000000e+00 9.62210980e-01 0.00000000e+00\n",
      "  9.57243812e-01 7.38334655e-01 0.00000000e+00 3.77383493e-01\n",
      "  3.25746385e-01 3.84143128e-01 4.21214377e-01 0.00000000e+00\n",
      "  4.21413055e-01 0.00000000e+00 7.91976697e-01 0.00000000e+00\n",
      "  2.57635854e-01 4.16291711e-01 0.00000000e+00 4.20481712e-01\n",
      "  3.39039580e-01 2.08406998e-01 3.82404448e-01 1.18109422e-01\n",
      "  3.56750140e-01 5.59930767e-01 8.14231005e-02 4.36985392e-01\n",
      "  5.86902435e-01 8.63781028e-01 4.44121956e-01 0.00000000e+00]]\n",
      "(5, 52)\n"
     ]
    }
   ],
   "source": [
    "topics = topic_model_values(Clean_Review_Text, number_of_topics=5, number_of_top_words=25)"
   ]
  },
  {
   "cell_type": "code",
   "execution_count": 29,
   "metadata": {},
   "outputs": [
    {
     "data": {
      "text/plain": [
       "array([[0.        , 0.        , 0.        , 0.        , 0.        ],\n",
       "       [0.        , 0.11426757, 0.        , 0.        , 0.        ],\n",
       "       [0.05507906, 0.        , 0.        , 0.06693074, 0.0029995 ],\n",
       "       ...,\n",
       "       [0.10869367, 0.04560765, 0.04319415, 0.01208834, 0.        ],\n",
       "       [0.08056625, 0.06437749, 0.06903662, 0.12385961, 0.        ],\n",
       "       [0.        , 0.        , 0.        , 0.        , 0.        ]])"
      ]
     },
     "execution_count": 29,
     "metadata": {},
     "output_type": "execute_result"
    }
   ],
   "source": [
    "topics"
   ]
  },
  {
   "cell_type": "code",
   "execution_count": 30,
   "metadata": {},
   "outputs": [],
   "source": [
    "topics_list = []\n",
    "for x in topics:\n",
    "    topics_list.append(np.argmax(x)) \n",
    "\n",
    "cb_df['Topic'] = topics_list"
   ]
  },
  {
   "cell_type": "code",
   "execution_count": 31,
   "metadata": {},
   "outputs": [
    {
     "name": "stdout",
     "output_type": "stream",
     "text": [
      "(115699, 5)\n"
     ]
    },
    {
     "data": {
      "text/html": [
       "<div>\n",
       "<style scoped>\n",
       "    .dataframe tbody tr th:only-of-type {\n",
       "        vertical-align: middle;\n",
       "    }\n",
       "\n",
       "    .dataframe tbody tr th {\n",
       "        vertical-align: top;\n",
       "    }\n",
       "\n",
       "    .dataframe thead th {\n",
       "        text-align: right;\n",
       "    }\n",
       "</style>\n",
       "<table border=\"1\" class=\"dataframe\">\n",
       "  <thead>\n",
       "    <tr style=\"text-align: right;\">\n",
       "      <th></th>\n",
       "      <th>Topic_0_IPA</th>\n",
       "      <th>Topic_1_Amber</th>\n",
       "      <th>Topic_2_Light</th>\n",
       "      <th>Topic_3_Pilsner_Lager</th>\n",
       "      <th>Topic_4_Dark</th>\n",
       "    </tr>\n",
       "  </thead>\n",
       "  <tbody>\n",
       "    <tr>\n",
       "      <th>0</th>\n",
       "      <td>0.000000</td>\n",
       "      <td>0.000000</td>\n",
       "      <td>0.0</td>\n",
       "      <td>0.000000</td>\n",
       "      <td>0.000000</td>\n",
       "    </tr>\n",
       "    <tr>\n",
       "      <th>1</th>\n",
       "      <td>0.000000</td>\n",
       "      <td>0.114268</td>\n",
       "      <td>0.0</td>\n",
       "      <td>0.000000</td>\n",
       "      <td>0.000000</td>\n",
       "    </tr>\n",
       "    <tr>\n",
       "      <th>2</th>\n",
       "      <td>0.055079</td>\n",
       "      <td>0.000000</td>\n",
       "      <td>0.0</td>\n",
       "      <td>0.066931</td>\n",
       "      <td>0.003000</td>\n",
       "    </tr>\n",
       "    <tr>\n",
       "      <th>3</th>\n",
       "      <td>0.028688</td>\n",
       "      <td>0.029363</td>\n",
       "      <td>0.0</td>\n",
       "      <td>0.005144</td>\n",
       "      <td>0.000000</td>\n",
       "    </tr>\n",
       "    <tr>\n",
       "      <th>4</th>\n",
       "      <td>0.012834</td>\n",
       "      <td>0.001293</td>\n",
       "      <td>0.0</td>\n",
       "      <td>0.000000</td>\n",
       "      <td>0.002499</td>\n",
       "    </tr>\n",
       "  </tbody>\n",
       "</table>\n",
       "</div>"
      ],
      "text/plain": [
       "   Topic_0_IPA  Topic_1_Amber  Topic_2_Light  Topic_3_Pilsner_Lager  \\\n",
       "0  0.000000     0.000000       0.0            0.000000                \n",
       "1  0.000000     0.114268       0.0            0.000000                \n",
       "2  0.055079     0.000000       0.0            0.066931                \n",
       "3  0.028688     0.029363       0.0            0.005144                \n",
       "4  0.012834     0.001293       0.0            0.000000                \n",
       "\n",
       "   Topic_4_Dark  \n",
       "0  0.000000      \n",
       "1  0.000000      \n",
       "2  0.003000      \n",
       "3  0.000000      \n",
       "4  0.002499      "
      ]
     },
     "execution_count": 31,
     "metadata": {},
     "output_type": "execute_result"
    }
   ],
   "source": [
    "topic_names=['Topic_0_IPA','Topic_1_Amber','Topic_2_Light','Topic_3_Pilsner_Lager','Topic_4_Dark']\n",
    "topics_df = pd.DataFrame(topics, columns=topic_names)\n",
    "print(topics_df.shape)\n",
    "topics_df.head()"
   ]
  },
  {
   "cell_type": "code",
   "execution_count": 32,
   "metadata": {},
   "outputs": [
    {
     "name": "stdout",
     "output_type": "stream",
     "text": [
      "<class 'pandas.core.frame.DataFrame'>\n",
      "Int64Index: 115699 entries, 1 to 291427\n",
      "Data columns (total 7 columns):\n",
      "Style                115699 non-null object\n",
      "Brewery              115699 non-null object\n",
      "Beername             115698 non-null object\n",
      "Full_Beername        115699 non-null object\n",
      "Review_Text          115699 non-null object\n",
      "Clean_Review_Text    115699 non-null object\n",
      "Topic                115699 non-null int64\n",
      "dtypes: int64(1), object(6)\n",
      "memory usage: 7.1+ MB\n"
     ]
    }
   ],
   "source": [
    "cb_df.info()"
   ]
  },
  {
   "cell_type": "code",
   "execution_count": 33,
   "metadata": {},
   "outputs": [],
   "source": [
    "cb_df = pd.concat([cb_df,topics_df], axis=1, join='inner')"
   ]
  },
  {
   "cell_type": "markdown",
   "metadata": {},
   "source": [
    "#### Recommendation System"
   ]
  },
  {
   "cell_type": "markdown",
   "metadata": {},
   "source": [
    "Now that we determined which topic each review and each beer falls into we create our recommendation system based on these values."
   ]
  },
  {
   "cell_type": "code",
   "execution_count": 34,
   "metadata": {},
   "outputs": [
    {
     "data": {
      "text/html": [
       "<div>\n",
       "<style scoped>\n",
       "    .dataframe tbody tr th:only-of-type {\n",
       "        vertical-align: middle;\n",
       "    }\n",
       "\n",
       "    .dataframe tbody tr th {\n",
       "        vertical-align: top;\n",
       "    }\n",
       "\n",
       "    .dataframe thead th {\n",
       "        text-align: right;\n",
       "    }\n",
       "</style>\n",
       "<table border=\"1\" class=\"dataframe\">\n",
       "  <thead>\n",
       "    <tr style=\"text-align: right;\">\n",
       "      <th></th>\n",
       "      <th>Topic_0_IPA</th>\n",
       "      <th>Topic_1_Amber</th>\n",
       "      <th>Topic_2_Light</th>\n",
       "      <th>Topic_3_Pilsner_Lager</th>\n",
       "      <th>Topic_4_Dark</th>\n",
       "    </tr>\n",
       "    <tr>\n",
       "      <th>Full_Beername</th>\n",
       "      <th></th>\n",
       "      <th></th>\n",
       "      <th></th>\n",
       "      <th></th>\n",
       "      <th></th>\n",
       "    </tr>\n",
       "  </thead>\n",
       "  <tbody>\n",
       "    <tr>\n",
       "      <th>'A Magara Magarìa</th>\n",
       "      <td>0.000000</td>\n",
       "      <td>0.000000</td>\n",
       "      <td>0.000000</td>\n",
       "      <td>0.000000</td>\n",
       "      <td>0.000000</td>\n",
       "    </tr>\n",
       "    <tr>\n",
       "      <th>'t Hofbrouwerijke Hofblues</th>\n",
       "      <td>0.070959</td>\n",
       "      <td>0.028789</td>\n",
       "      <td>0.000000</td>\n",
       "      <td>0.016148</td>\n",
       "      <td>0.012843</td>\n",
       "    </tr>\n",
       "    <tr>\n",
       "      <th>'t Hofbrouwerijke Hofdraak</th>\n",
       "      <td>0.000000</td>\n",
       "      <td>0.082943</td>\n",
       "      <td>0.000000</td>\n",
       "      <td>0.000000</td>\n",
       "      <td>0.000000</td>\n",
       "    </tr>\n",
       "    <tr>\n",
       "      <th>(512) Brewing Company (512) Black IPA</th>\n",
       "      <td>0.088095</td>\n",
       "      <td>0.003292</td>\n",
       "      <td>0.000306</td>\n",
       "      <td>0.065631</td>\n",
       "      <td>0.000000</td>\n",
       "    </tr>\n",
       "    <tr>\n",
       "      <th>(512) Brewing Company (512) IPA</th>\n",
       "      <td>0.010708</td>\n",
       "      <td>0.018832</td>\n",
       "      <td>0.000135</td>\n",
       "      <td>0.000000</td>\n",
       "      <td>0.029558</td>\n",
       "    </tr>\n",
       "  </tbody>\n",
       "</table>\n",
       "</div>"
      ],
      "text/plain": [
       "                                       Topic_0_IPA  Topic_1_Amber  \\\n",
       "Full_Beername                                                       \n",
       "'A Magara Magarìa                      0.000000     0.000000        \n",
       "'t Hofbrouwerijke Hofblues             0.070959     0.028789        \n",
       "'t Hofbrouwerijke Hofdraak             0.000000     0.082943        \n",
       "(512) Brewing Company (512) Black IPA  0.088095     0.003292        \n",
       "(512) Brewing Company (512) IPA        0.010708     0.018832        \n",
       "\n",
       "                                       Topic_2_Light  Topic_3_Pilsner_Lager  \\\n",
       "Full_Beername                                                                 \n",
       "'A Magara Magarìa                      0.000000       0.000000                \n",
       "'t Hofbrouwerijke Hofblues             0.000000       0.016148                \n",
       "'t Hofbrouwerijke Hofdraak             0.000000       0.000000                \n",
       "(512) Brewing Company (512) Black IPA  0.000306       0.065631                \n",
       "(512) Brewing Company (512) IPA        0.000135       0.000000                \n",
       "\n",
       "                                       Topic_4_Dark  \n",
       "Full_Beername                                        \n",
       "'A Magara Magarìa                      0.000000      \n",
       "'t Hofbrouwerijke Hofblues             0.012843      \n",
       "'t Hofbrouwerijke Hofdraak             0.000000      \n",
       "(512) Brewing Company (512) Black IPA  0.000000      \n",
       "(512) Brewing Company (512) IPA        0.029558      "
      ]
     },
     "execution_count": 34,
     "metadata": {},
     "output_type": "execute_result"
    }
   ],
   "source": [
    "topic_info_df = cb_df[['Full_Beername','Topic_0_IPA','Topic_1_Amber','Topic_2_Light',\\\n",
    "                       'Topic_3_Pilsner_Lager','Topic_4_Dark']]\n",
    "\n",
    "recommender = topic_info_df\n",
    "recommender.set_index(['Full_Beername'], inplace=True)\n",
    "\n",
    "recommendations = recommender.reset_index().groupby('Full_Beername').mean()\n",
    "recommendations.head()"
   ]
  },
  {
   "cell_type": "code",
   "execution_count": 35,
   "metadata": {
    "scrolled": false
   },
   "outputs": [
    {
     "data": {
      "text/plain": [
       "Topic_0_IPA              0.012032\n",
       "Topic_1_Amber            0.014600\n",
       "Topic_2_Light            0.005325\n",
       "Topic_3_Pilsner_Lager    0.058466\n",
       "Topic_4_Dark             0.006985\n",
       "Name: Great Lakes Brewing Co. Great Lakes Nosferatu, dtype: float64"
      ]
     },
     "execution_count": 35,
     "metadata": {},
     "output_type": "execute_result"
    }
   ],
   "source": [
    "recommendations.loc[\"Great Lakes Brewing Co. Great Lakes Nosferatu\"]"
   ]
  },
  {
   "cell_type": "code",
   "execution_count": 36,
   "metadata": {},
   "outputs": [],
   "source": [
    "import pickle\n",
    "\n",
    "recommendations.to_pickle('/Users/zoemarkovits/Documents/Grad School/Spring 2019/Data Mining/Project Three/data.pkl')"
   ]
  },
  {
   "cell_type": "code",
   "execution_count": 37,
   "metadata": {},
   "outputs": [],
   "source": [
    "def cosine_similiarity(x1,x2):\n",
    "    num=np.dot(x1,x2)\n",
    "    magx1=np.sqrt(sum([a**2 for a in x1]))\n",
    "    magx2=np.sqrt(sum([b**2 for b in x2]))\n",
    "    denom=1\n",
    "    if magx1 ==0 or magx2 ==0:\n",
    "        denom ==1\n",
    "    else:\n",
    "        denom =np.dot(magx1,magx2)\n",
    "    return num/denom  "
   ]
  },
  {
   "cell_type": "code",
   "execution_count": 38,
   "metadata": {},
   "outputs": [],
   "source": [
    "def recommender():\n",
    "    beer_options = (recommendations.index).tolist()\n",
    "    beer_input = input(\"Enter a beer you like: \")\n",
    "    if beer_input in beer_options:   \n",
    "        beer_input_values = recommendations.loc[beer_input]\n",
    "        all_similarities=[]\n",
    "        for i in recommendations.index:\n",
    "            all_similarities.append(cosine_similiarity(recommendations.loc[i],beer_input_values))\n",
    "        beer_similarities = sorted([(v,i) for i,v in enumerate(all_similarities)],reverse=True)[1:6]\n",
    "        beer_values = [m[1] for m in beer_similarities]\n",
    "        print(\"Here are some other beers you might also like:\\n\", recommendations.iloc[beer_values].index.tolist())\n",
    "    else:\n",
    "        print(\"Please try entering another beer\")  "
   ]
  },
  {
   "cell_type": "code",
   "execution_count": 39,
   "metadata": {
    "scrolled": true
   },
   "outputs": [
    {
     "name": "stdout",
     "output_type": "stream",
     "text": [
      "Enter a beer you like: Great Lakes Brewing Co. Great Lakes Nosferatu\n",
      "Here are some other beers you might also like:\n",
      " ['Alpine Beer Company Toronado Red', 'Railway City Brewing Company Railway City Iron Spike - Amber Ale', 'Jupiter Honey Wheat', 'Thunder Island Brewing Chocolate Thunder Stout', 'Element Brewing Company Plasma']\n"
     ]
    }
   ],
   "source": [
    "recommender()"
   ]
  },
  {
   "cell_type": "code",
   "execution_count": 40,
   "metadata": {},
   "outputs": [
    {
     "name": "stdout",
     "output_type": "stream",
     "text": [
      "Enter a beer you like: Bud Light\n",
      "Please try entering another beer\n"
     ]
    }
   ],
   "source": [
    "recommender()"
   ]
  },
  {
   "cell_type": "code",
   "execution_count": null,
   "metadata": {},
   "outputs": [],
   "source": []
  },
  {
   "cell_type": "markdown",
   "metadata": {},
   "source": [
    "### Option Two: Collaborative Filtering Recommender"
   ]
  },
  {
   "cell_type": "code",
   "execution_count": 41,
   "metadata": {},
   "outputs": [
    {
     "name": "stderr",
     "output_type": "stream",
     "text": [
      "/anaconda3/lib/python3.7/site-packages/ipykernel_launcher.py:5: SettingWithCopyWarning: \n",
      "A value is trying to be set on a copy of a slice from a DataFrame.\n",
      "Try using .loc[row_indexer,col_indexer] = value instead\n",
      "\n",
      "See the caveats in the documentation: http://pandas.pydata.org/pandas-docs/stable/indexing.html#indexing-view-versus-copy\n",
      "  \"\"\"\n"
     ]
    },
    {
     "data": {
      "text/html": [
       "<div>\n",
       "<style scoped>\n",
       "    .dataframe tbody tr th:only-of-type {\n",
       "        vertical-align: middle;\n",
       "    }\n",
       "\n",
       "    .dataframe tbody tr th {\n",
       "        vertical-align: top;\n",
       "    }\n",
       "\n",
       "    .dataframe thead th {\n",
       "        text-align: right;\n",
       "    }\n",
       "</style>\n",
       "<table border=\"1\" class=\"dataframe\">\n",
       "  <thead>\n",
       "    <tr style=\"text-align: right;\">\n",
       "      <th></th>\n",
       "      <th>Style</th>\n",
       "      <th>Brewery</th>\n",
       "      <th>Beername</th>\n",
       "      <th>Full_Beername</th>\n",
       "      <th>Reviewer_Username</th>\n",
       "      <th>Review_Score</th>\n",
       "      <th>Review_Look</th>\n",
       "      <th>Review_Smell</th>\n",
       "      <th>Review_Taste</th>\n",
       "      <th>Review_Feel</th>\n",
       "      <th>Review_Overall</th>\n",
       "    </tr>\n",
       "  </thead>\n",
       "  <tbody>\n",
       "    <tr>\n",
       "      <th>1</th>\n",
       "      <td>American Black Ale</td>\n",
       "      <td>Stone Brewing</td>\n",
       "      <td>Sublimely Self-Righteous Black IPA</td>\n",
       "      <td>Stone Brewing Sublimely Self-Righteous Black IPA</td>\n",
       "      <td>Prager62</td>\n",
       "      <td>3.96</td>\n",
       "      <td>4.25</td>\n",
       "      <td>3.75</td>\n",
       "      <td>4.00</td>\n",
       "      <td>4.00</td>\n",
       "      <td>4.00</td>\n",
       "    </tr>\n",
       "    <tr>\n",
       "      <th>2</th>\n",
       "      <td>American Amber / Red Ale</td>\n",
       "      <td>Avery Brewing Company</td>\n",
       "      <td>Hog Heaven: Imperial Red IPA</td>\n",
       "      <td>Avery Brewing Company Hog Heaven: Imperial Red IPA</td>\n",
       "      <td>HorseheadsHopHead</td>\n",
       "      <td>3.97</td>\n",
       "      <td>4.50</td>\n",
       "      <td>3.75</td>\n",
       "      <td>4.00</td>\n",
       "      <td>4.00</td>\n",
       "      <td>4.00</td>\n",
       "    </tr>\n",
       "    <tr>\n",
       "      <th>6</th>\n",
       "      <td>American Amber / Red Ale</td>\n",
       "      <td>Great Lakes Brewing Co.</td>\n",
       "      <td>Great Lakes Nosferatu</td>\n",
       "      <td>Great Lakes Brewing Co. Great Lakes Nosferatu</td>\n",
       "      <td>Barnoloid</td>\n",
       "      <td>3.90</td>\n",
       "      <td>4.25</td>\n",
       "      <td>4.25</td>\n",
       "      <td>3.75</td>\n",
       "      <td>3.75</td>\n",
       "      <td>3.75</td>\n",
       "    </tr>\n",
       "    <tr>\n",
       "      <th>8</th>\n",
       "      <td>American Amber / Red Ale</td>\n",
       "      <td>Lagunitas Brewing Company</td>\n",
       "      <td>Censored</td>\n",
       "      <td>Lagunitas Brewing Company Censored</td>\n",
       "      <td>rodbeermunch</td>\n",
       "      <td>3.46</td>\n",
       "      <td>3.75</td>\n",
       "      <td>3.25</td>\n",
       "      <td>3.50</td>\n",
       "      <td>3.50</td>\n",
       "      <td>3.50</td>\n",
       "    </tr>\n",
       "    <tr>\n",
       "      <th>11</th>\n",
       "      <td>American Amber / Red Ale</td>\n",
       "      <td>Bell's Brewery, Inc.</td>\n",
       "      <td>Bell's Amber Ale</td>\n",
       "      <td>Bell's Brewery, Inc. Bell's Amber Ale</td>\n",
       "      <td>Pantalones</td>\n",
       "      <td>4.03</td>\n",
       "      <td>4.25</td>\n",
       "      <td>3.75</td>\n",
       "      <td>4.25</td>\n",
       "      <td>3.75</td>\n",
       "      <td>4.00</td>\n",
       "    </tr>\n",
       "  </tbody>\n",
       "</table>\n",
       "</div>"
      ],
      "text/plain": [
       "                       Style                    Brewery  \\\n",
       "1   American Black Ale        Stone Brewing               \n",
       "2   American Amber / Red Ale  Avery Brewing Company       \n",
       "6   American Amber / Red Ale  Great Lakes Brewing Co.     \n",
       "8   American Amber / Red Ale  Lagunitas Brewing Company   \n",
       "11  American Amber / Red Ale  Bell's Brewery, Inc.        \n",
       "\n",
       "                              Beername  \\\n",
       "1   Sublimely Self-Righteous Black IPA   \n",
       "2   Hog Heaven: Imperial Red IPA         \n",
       "6   Great Lakes Nosferatu                \n",
       "8   Censored                             \n",
       "11  Bell's Amber Ale                     \n",
       "\n",
       "                                         Full_Beername  Reviewer_Username  \\\n",
       "1   Stone Brewing Sublimely Self-Righteous Black IPA    Prager62            \n",
       "2   Avery Brewing Company Hog Heaven: Imperial Red IPA  HorseheadsHopHead   \n",
       "6   Great Lakes Brewing Co. Great Lakes Nosferatu       Barnoloid           \n",
       "8   Lagunitas Brewing Company Censored                  rodbeermunch        \n",
       "11  Bell's Brewery, Inc. Bell's Amber Ale               Pantalones          \n",
       "\n",
       "    Review_Score  Review_Look  Review_Smell  Review_Taste  Review_Feel  \\\n",
       "1   3.96          4.25         3.75          4.00          4.00          \n",
       "2   3.97          4.50         3.75          4.00          4.00          \n",
       "6   3.90          4.25         4.25          3.75          3.75          \n",
       "8   3.46          3.75         3.25          3.50          3.50          \n",
       "11  4.03          4.25         3.75          4.25          3.75          \n",
       "\n",
       "    Review_Overall  \n",
       "1   4.00            \n",
       "2   4.00            \n",
       "6   3.75            \n",
       "8   3.50            \n",
       "11  4.00            "
      ]
     },
     "execution_count": 41,
     "metadata": {},
     "output_type": "execute_result"
    }
   ],
   "source": [
    "# Only keep reviewer username and review scores \n",
    "\n",
    "cf_df = df[['Style','Brewery','Beername','Reviewer_Username','Review_Score','Review_Look','Review_Smell','Review_Taste',\\\n",
    "            'Review_Feel','Review_Overall']]\n",
    "cf_df['Full_Beername'] = df.apply(lambda x:'%s %s' % (x['Brewery'],x['Beername']),axis=1)\n",
    "cf_df = cf_df[['Style','Brewery','Beername','Full_Beername','Reviewer_Username','Review_Score','Review_Look',\\\n",
    "               'Review_Smell','Review_Taste','Review_Feel','Review_Overall']]\n",
    "cf_df.head()"
   ]
  },
  {
   "cell_type": "code",
   "execution_count": null,
   "metadata": {},
   "outputs": [],
   "source": []
  },
  {
   "cell_type": "code",
   "execution_count": null,
   "metadata": {},
   "outputs": [],
   "source": []
  },
  {
   "cell_type": "code",
   "execution_count": null,
   "metadata": {},
   "outputs": [],
   "source": []
  },
  {
   "cell_type": "code",
   "execution_count": null,
   "metadata": {},
   "outputs": [],
   "source": []
  },
  {
   "cell_type": "code",
   "execution_count": null,
   "metadata": {},
   "outputs": [],
   "source": []
  },
  {
   "cell_type": "code",
   "execution_count": null,
   "metadata": {},
   "outputs": [],
   "source": []
  },
  {
   "cell_type": "code",
   "execution_count": null,
   "metadata": {},
   "outputs": [],
   "source": []
  }
 ],
 "metadata": {
  "kernelspec": {
   "display_name": "Python 3",
   "language": "python",
   "name": "python3"
  },
  "language_info": {
   "codemirror_mode": {
    "name": "ipython",
    "version": 3
   },
   "file_extension": ".py",
   "mimetype": "text/x-python",
   "name": "python",
   "nbconvert_exporter": "python",
   "pygments_lexer": "ipython3",
   "version": "3.7.1"
  }
 },
 "nbformat": 4,
 "nbformat_minor": 2
}
